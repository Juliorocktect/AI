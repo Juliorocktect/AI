{
 "cells": [
  {
   "cell_type": "code",
   "execution_count": 164,
   "id": "a824b2a0",
   "metadata": {},
   "outputs": [],
   "source": [
    "import pandas as pd\n",
    "import numpy as np\n",
    "import matplotlib.pyplot as plt\n",
    "from sklearn.neighbors import KNeighborsClassifier\n",
    "from sklearn.metrics import classification_report\n",
    "from imblearn.over_sampling import RandomOverSampler"
   ]
  },
  {
   "cell_type": "code",
   "execution_count": 165,
   "id": "8e32193e-03d2-4b38-ac37-83730121f01c",
   "metadata": {},
   "outputs": [
    {
     "data": {
      "text/html": [
       "<div>\n",
       "<style scoped>\n",
       "    .dataframe tbody tr th:only-of-type {\n",
       "        vertical-align: middle;\n",
       "    }\n",
       "\n",
       "    .dataframe tbody tr th {\n",
       "        vertical-align: top;\n",
       "    }\n",
       "\n",
       "    .dataframe thead th {\n",
       "        text-align: right;\n",
       "    }\n",
       "</style>\n",
       "<table border=\"1\" class=\"dataframe\">\n",
       "  <thead>\n",
       "    <tr style=\"text-align: right;\">\n",
       "      <th></th>\n",
       "      <th>age</th>\n",
       "      <th>workclass</th>\n",
       "      <th>fnwlgt</th>\n",
       "      <th>education</th>\n",
       "      <th>educationnum</th>\n",
       "      <th>maritalstatus</th>\n",
       "      <th>occupation</th>\n",
       "      <th>raltionship</th>\n",
       "      <th>race</th>\n",
       "      <th>sex</th>\n",
       "      <th>capital-gain</th>\n",
       "      <th>capital-loss</th>\n",
       "      <th>hours-per-week</th>\n",
       "      <th>native-country</th>\n",
       "      <th>income</th>\n",
       "      <th>class</th>\n",
       "    </tr>\n",
       "  </thead>\n",
       "  <tbody>\n",
       "    <tr>\n",
       "      <th>0</th>\n",
       "      <td>39</td>\n",
       "      <td>State-gov</td>\n",
       "      <td>77516</td>\n",
       "      <td>Bachelors</td>\n",
       "      <td>13</td>\n",
       "      <td>Never-married</td>\n",
       "      <td>Adm-clerical</td>\n",
       "      <td>Not-in-family</td>\n",
       "      <td>White</td>\n",
       "      <td>Male</td>\n",
       "      <td>2174</td>\n",
       "      <td>0</td>\n",
       "      <td>40</td>\n",
       "      <td>United-States</td>\n",
       "      <td>&lt;=50K</td>\n",
       "      <td>1</td>\n",
       "    </tr>\n",
       "    <tr>\n",
       "      <th>1</th>\n",
       "      <td>50</td>\n",
       "      <td>Self-emp-not-inc</td>\n",
       "      <td>83311</td>\n",
       "      <td>Bachelors</td>\n",
       "      <td>13</td>\n",
       "      <td>Married-civ-spouse</td>\n",
       "      <td>Exec-managerial</td>\n",
       "      <td>Husband</td>\n",
       "      <td>White</td>\n",
       "      <td>Male</td>\n",
       "      <td>0</td>\n",
       "      <td>0</td>\n",
       "      <td>13</td>\n",
       "      <td>United-States</td>\n",
       "      <td>&lt;=50K</td>\n",
       "      <td>1</td>\n",
       "    </tr>\n",
       "    <tr>\n",
       "      <th>2</th>\n",
       "      <td>38</td>\n",
       "      <td>Private</td>\n",
       "      <td>215646</td>\n",
       "      <td>HS-grad</td>\n",
       "      <td>9</td>\n",
       "      <td>Divorced</td>\n",
       "      <td>Handlers-cleaners</td>\n",
       "      <td>Not-in-family</td>\n",
       "      <td>White</td>\n",
       "      <td>Male</td>\n",
       "      <td>0</td>\n",
       "      <td>0</td>\n",
       "      <td>40</td>\n",
       "      <td>United-States</td>\n",
       "      <td>&lt;=50K</td>\n",
       "      <td>1</td>\n",
       "    </tr>\n",
       "    <tr>\n",
       "      <th>3</th>\n",
       "      <td>53</td>\n",
       "      <td>Private</td>\n",
       "      <td>234721</td>\n",
       "      <td>11th</td>\n",
       "      <td>7</td>\n",
       "      <td>Married-civ-spouse</td>\n",
       "      <td>Handlers-cleaners</td>\n",
       "      <td>Husband</td>\n",
       "      <td>Black</td>\n",
       "      <td>Male</td>\n",
       "      <td>0</td>\n",
       "      <td>0</td>\n",
       "      <td>40</td>\n",
       "      <td>United-States</td>\n",
       "      <td>&lt;=50K</td>\n",
       "      <td>1</td>\n",
       "    </tr>\n",
       "    <tr>\n",
       "      <th>4</th>\n",
       "      <td>28</td>\n",
       "      <td>Private</td>\n",
       "      <td>338409</td>\n",
       "      <td>Bachelors</td>\n",
       "      <td>13</td>\n",
       "      <td>Married-civ-spouse</td>\n",
       "      <td>Prof-specialty</td>\n",
       "      <td>Wife</td>\n",
       "      <td>Black</td>\n",
       "      <td>Female</td>\n",
       "      <td>0</td>\n",
       "      <td>0</td>\n",
       "      <td>40</td>\n",
       "      <td>Cuba</td>\n",
       "      <td>&lt;=50K</td>\n",
       "      <td>1</td>\n",
       "    </tr>\n",
       "  </tbody>\n",
       "</table>\n",
       "</div>"
      ],
      "text/plain": [
       "   age         workclass  fnwlgt  education  educationnum       maritalstatus  \\\n",
       "0   39         State-gov   77516  Bachelors            13       Never-married   \n",
       "1   50  Self-emp-not-inc   83311  Bachelors            13  Married-civ-spouse   \n",
       "2   38           Private  215646    HS-grad             9            Divorced   \n",
       "3   53           Private  234721       11th             7  Married-civ-spouse   \n",
       "4   28           Private  338409  Bachelors            13  Married-civ-spouse   \n",
       "\n",
       "          occupation    raltionship   race     sex  capital-gain  \\\n",
       "0       Adm-clerical  Not-in-family  White    Male          2174   \n",
       "1    Exec-managerial        Husband  White    Male             0   \n",
       "2  Handlers-cleaners  Not-in-family  White    Male             0   \n",
       "3  Handlers-cleaners        Husband  Black    Male             0   \n",
       "4     Prof-specialty           Wife  Black  Female             0   \n",
       "\n",
       "   capital-loss  hours-per-week native-country income  class  \n",
       "0             0              40  United-States  <=50K      1  \n",
       "1             0              13  United-States  <=50K      1  \n",
       "2             0              40  United-States  <=50K      1  \n",
       "3             0              40  United-States  <=50K      1  \n",
       "4             0              40           Cuba  <=50K      1  "
      ]
     },
     "execution_count": 165,
     "metadata": {},
     "output_type": "execute_result"
    }
   ],
   "source": [
    "cols = [\"age\",\"workclass\",\"fnwlgt\",\"education\",\"educationnum\",\"maritalstatus\",\"occupation\",\"raltionship\",\"race\",\"sex\",\"capital-gain\",\"capital-loss\",\"hours-per-week\",\"native-country\",\"income\",\"class\"]\n",
    "\n",
    "df = pd.read_csv(\"income.csv\",names=cols)\n",
    "if df[\"income\"].equals(\">50K\"):\n",
    "    df[\"class\"] = 0\n",
    "else:\n",
    "    df[\"class\"] = 1\n",
    "df.head()"
   ]
  },
  {
   "cell_type": "markdown",
   "id": "b27bc149",
   "metadata": {},
   "source": [
    "### Draw Graph"
   ]
  },
  {
   "cell_type": "code",
   "execution_count": 166,
   "id": "15bab02d",
   "metadata": {},
   "outputs": [],
   "source": [
    "def drawGraph():\n",
    "    for i in cols[:-1]:\n",
    "        plt.hist(df[df[\"class\"] == 1][i],color='blue',label=\"<=50K\",alpha=0.7,density=True)\n",
    "        plt.title(i)\n",
    "        plt.xlabel(i)\n",
    "        plt.ylabel(\"Distribution\")\n",
    "        plt.legend()\n",
    "        plt.show()"
   ]
  },
  {
   "cell_type": "markdown",
   "id": "55a8e38c",
   "metadata": {},
   "source": [
    "### Train, Validation, test Datasets"
   ]
  },
  {
   "cell_type": "code",
   "execution_count": null,
   "id": "cf932e57",
   "metadata": {},
   "outputs": [],
   "source": []
  },
  {
   "cell_type": "code",
   "execution_count": 167,
   "id": "3cc48240",
   "metadata": {},
   "outputs": [],
   "source": [
    "from sklearn.discriminant_analysis import StandardScaler\n",
    "\n",
    "\n",
    "def scale_dataset(dataframe, oversample=False):\n",
    "  X = dataframe[dataframe.columns[:-1]].values\n",
    "  y = dataframe[dataframe.columns[-1]].values\n",
    "\n",
    "  scaler = StandardScaler()\n",
    "  X = scaler.fit_transform(X)\n",
    "\n",
    "  if oversample:\n",
    "    ros = RandomOverSampler()\n",
    "    X, y = ros.fit_resample(X, y)\n",
    "\n",
    "  data = np.hstack((X, np.reshape(y, (-1, 1))))\n",
    "\n",
    "  return data, X, y"
   ]
  },
  {
   "cell_type": "markdown",
   "id": "0883571f",
   "metadata": {},
   "source": [
    "### Definition of methods to get all different options"
   ]
  },
  {
   "cell_type": "code",
   "execution_count": 168,
   "id": "2e4adcf8",
   "metadata": {},
   "outputs": [],
   "source": [
    "\n",
    "def getAllWorkclasses():\n",
    "    names = []\n",
    "    workclasses = df[\"workclass\"]\n",
    "\n",
    "    for i in workclasses:\n",
    "        if not i in names:\n",
    "            names.append(i)\n",
    "    return names\n",
    "\n",
    "def getAllEducation():\n",
    "    names = []\n",
    "    education = df[\"education\"]\n",
    "    for i in education:\n",
    "        if not i in names:\n",
    "            names.append(i)\n",
    "    return names\n",
    "def getAllOccupation():\n",
    "    names = []\n",
    "    column = df[\"occupation\"]\n",
    "    for i in column:\n",
    "        if not i in names:\n",
    "            names.append(i)\n",
    "    return names\n",
    "def getAllMaritalstatus():\n",
    "    names = []\n",
    "    column = df[\"maritalstatus\"]\n",
    "    for i in column:\n",
    "        if not i in names:\n",
    "            names.append(i)\n",
    "    return names\n",
    "def getAllRelationship():\n",
    "    names = []\n",
    "    column = df[\"raltionship\"]\n",
    "    for i in column:\n",
    "        if not i in names:\n",
    "            names.append(i)\n",
    "    return names\n",
    "def getAllRace():\n",
    "    names = []\n",
    "    column = df[\"race\"]\n",
    "    for i in column:\n",
    "        if not i in names:\n",
    "            names.append(i)\n",
    "    return names\n",
    "def getAllNations():\n",
    "    names = []\n",
    "    column = df[\"native-country\"]\n",
    "    for i in column:\n",
    "        if not i in names:\n",
    "            names.append(i)\n",
    "    return names"
   ]
  },
  {
   "cell_type": "code",
   "execution_count": 169,
   "id": "1d475782",
   "metadata": {},
   "outputs": [
    {
     "name": "stdout",
     "output_type": "stream",
     "text": [
      "9 workclasses\n",
      "16 education\n",
      "7 maritalStatus\n",
      "15 occupation\n",
      "5 races\n"
     ]
    }
   ],
   "source": [
    "workclasses_names = getAllWorkclasses()\n",
    "print (len(workclasses_names) , \"workclasses\")\n",
    "print (len(getAllEducation()), \"education\")\n",
    "print (len(getAllMaritalstatus()),\"maritalStatus\")\n",
    "print (len(getAllOccupation()),\"occupation\")\n",
    "print (len(getAllRace()),\"races\")"
   ]
  },
  {
   "cell_type": "code",
   "execution_count": 170,
   "id": "89ac48b4",
   "metadata": {},
   "outputs": [],
   "source": [
    "education_names = getAllEducation()\n",
    "maritalstatus_names = getAllMaritalstatus()\n",
    "occupation_status = getAllOccupation()\n",
    "races_names = getAllRace()\n",
    "relationship_names = getAllRelationship()\n",
    "nations_names = getAllNations()"
   ]
  },
  {
   "cell_type": "markdown",
   "id": "50129e4d",
   "metadata": {},
   "source": [
    "### Encode of the strings to int values"
   ]
  },
  {
   "cell_type": "code",
   "execution_count": 171,
   "id": "20ed6090",
   "metadata": {},
   "outputs": [],
   "source": [
    "from typing import NamedTuple\n",
    "\n",
    "class Workclass(NamedTuple):\n",
    "    name: str\n",
    "    number: int\n",
    "\n",
    "newDf = pd.DataFrame()\n",
    "newDf[\"age\"] = df[\"age\"]\n",
    "def encodeWorkclass():\n",
    "    workclasses_encoded = []\n",
    "    for i in range(len(df)):\n",
    "        for j in range(len(workclasses_names)):\n",
    "            if df[\"workclass\"][i] == ((workclasses_names[j])):\n",
    "                workclasses_encoded.append(j)\n",
    "    newDf[\"workclass\"] = pd.Series(workclasses_encoded).values\n",
    "def encodeEducation():\n",
    "    education_encoded = []\n",
    "    for i in range(len(df)):\n",
    "        for j in range(len(education_names)):\n",
    "            if df[\"education\"][i] == ((education_names[j])):\n",
    "                education_encoded.append(j)\n",
    "    newDf[\"education\"] = pd.Series(education_encoded).values\n",
    "def encodeMaritalStatus():\n",
    "    maritalstatus_encoded = []\n",
    "    for i in range(len(df)):\n",
    "        for j in range(len(maritalstatus_names)):\n",
    "            if df[\"maritalstatus\"][i] == ((maritalstatus_names[j])):\n",
    "                maritalstatus_encoded.append(j)\n",
    "    newDf[\"maritalstatus\"] = pd.Series(maritalstatus_encoded).values\n",
    "def encodeOccupation():\n",
    "    occupation_encoded = []\n",
    "    for i in range(len(df)):\n",
    "        for j in range(len(occupation_status)):\n",
    "            if df[\"occupation\"][i] == ((occupation_status[j])):\n",
    "                occupation_encoded.append(j)\n",
    "    newDf[\"occupation\"] = pd.Series(occupation_encoded).values\n",
    "def encodeRelationShip():\n",
    "    relationship_encoded = []\n",
    "    for i in range(len(df)):\n",
    "        for j in range(len(relationship_names)):\n",
    "            if df[\"raltionship\"][i] == ((relationship_names[j])):\n",
    "                relationship_encoded.append(j)\n",
    "    newDf[\"raltionship\"] = pd.Series(relationship_encoded).values\n",
    "def encodeNations():\n",
    "    nations_encoded = []\n",
    "    for i in range(len(df)):\n",
    "        for j in range(len(nations_names)):\n",
    "            if df[\"native-country\"][i] == ((nations_names[j])):\n",
    "                nations_encoded.append(j)\n",
    "    newDf[\"native-country\"] = pd.Series(nations_encoded).values\n",
    "def encodeRace():\n",
    "    race_encoded = []\n",
    "    for i in range(len(df)):\n",
    "        for j in range(len(races_names)):\n",
    "            if df[\"race\"][i] == ((races_names[j])):\n",
    "                race_encoded.append(j)\n",
    "    newDf[\"race\"] = pd.Series(race_encoded).values\n",
    "def encodeSex():\n",
    "    sex_encoded = []\n",
    "    for i in range(len(df)):\n",
    "        if df[\"sex\"][i] == 'Male':\n",
    "            sex_encoded.append(1)\n",
    "        else:\n",
    "            sex_encoded.append(0)\n",
    "    newDf[\"sex\"] = pd.Series(sex_encoded).values\n",
    "encodeWorkclass()\n",
    "encodeEducation()\n",
    "encodeMaritalStatus()\n",
    "encodeOccupation()\n",
    "encodeRelationShip()\n",
    "encodeRace()\n",
    "encodeSex()\n",
    "newDf[\"capital-gain\"] = df[\"capital-gain\"]\n",
    "newDf[\"capital-loss\"] = df[\"capital-loss\"]\n",
    "newDf[\"hours-per-week\"] = df[\"hours-per-week\"]\n",
    "encodeNations()\n",
    "newDf[\"income\"] = df[\"income\"]\n",
    "newDf.to_csv(\"income_encoded.csv\",index=True)\n",
    "        "
   ]
  },
  {
   "cell_type": "markdown",
   "id": "df27442c",
   "metadata": {},
   "source": [
    "# The Model"
   ]
  },
  {
   "cell_type": "code",
   "execution_count": 172,
   "id": "f645a84a",
   "metadata": {},
   "outputs": [],
   "source": [
    "train,valid,test =np.split(newDf.sample(frac=1),[int(0.6*len(df)),int(0.8*len(df))])"
   ]
  },
  {
   "cell_type": "code",
   "execution_count": 173,
   "id": "d27ebc7b",
   "metadata": {},
   "outputs": [],
   "source": [
    "train, X_train, y_train = scale_dataset(train, oversample=True)\n",
    "valid, X_valid, y_valid = scale_dataset(valid, oversample=False)\n",
    "test, X_test, y_test = scale_dataset(test, oversample=False)"
   ]
  },
  {
   "cell_type": "code",
   "execution_count": 174,
   "id": "896bbd8b",
   "metadata": {},
   "outputs": [
    {
     "data": {
      "text/html": [
       "<style>#sk-container-id-3 {color: black;}#sk-container-id-3 pre{padding: 0;}#sk-container-id-3 div.sk-toggleable {background-color: white;}#sk-container-id-3 label.sk-toggleable__label {cursor: pointer;display: block;width: 100%;margin-bottom: 0;padding: 0.3em;box-sizing: border-box;text-align: center;}#sk-container-id-3 label.sk-toggleable__label-arrow:before {content: \"▸\";float: left;margin-right: 0.25em;color: #696969;}#sk-container-id-3 label.sk-toggleable__label-arrow:hover:before {color: black;}#sk-container-id-3 div.sk-estimator:hover label.sk-toggleable__label-arrow:before {color: black;}#sk-container-id-3 div.sk-toggleable__content {max-height: 0;max-width: 0;overflow: hidden;text-align: left;background-color: #f0f8ff;}#sk-container-id-3 div.sk-toggleable__content pre {margin: 0.2em;color: black;border-radius: 0.25em;background-color: #f0f8ff;}#sk-container-id-3 input.sk-toggleable__control:checked~div.sk-toggleable__content {max-height: 200px;max-width: 100%;overflow: auto;}#sk-container-id-3 input.sk-toggleable__control:checked~label.sk-toggleable__label-arrow:before {content: \"▾\";}#sk-container-id-3 div.sk-estimator input.sk-toggleable__control:checked~label.sk-toggleable__label {background-color: #d4ebff;}#sk-container-id-3 div.sk-label input.sk-toggleable__control:checked~label.sk-toggleable__label {background-color: #d4ebff;}#sk-container-id-3 input.sk-hidden--visually {border: 0;clip: rect(1px 1px 1px 1px);clip: rect(1px, 1px, 1px, 1px);height: 1px;margin: -1px;overflow: hidden;padding: 0;position: absolute;width: 1px;}#sk-container-id-3 div.sk-estimator {font-family: monospace;background-color: #f0f8ff;border: 1px dotted black;border-radius: 0.25em;box-sizing: border-box;margin-bottom: 0.5em;}#sk-container-id-3 div.sk-estimator:hover {background-color: #d4ebff;}#sk-container-id-3 div.sk-parallel-item::after {content: \"\";width: 100%;border-bottom: 1px solid gray;flex-grow: 1;}#sk-container-id-3 div.sk-label:hover label.sk-toggleable__label {background-color: #d4ebff;}#sk-container-id-3 div.sk-serial::before {content: \"\";position: absolute;border-left: 1px solid gray;box-sizing: border-box;top: 0;bottom: 0;left: 50%;z-index: 0;}#sk-container-id-3 div.sk-serial {display: flex;flex-direction: column;align-items: center;background-color: white;padding-right: 0.2em;padding-left: 0.2em;position: relative;}#sk-container-id-3 div.sk-item {position: relative;z-index: 1;}#sk-container-id-3 div.sk-parallel {display: flex;align-items: stretch;justify-content: center;background-color: white;position: relative;}#sk-container-id-3 div.sk-item::before, #sk-container-id-3 div.sk-parallel-item::before {content: \"\";position: absolute;border-left: 1px solid gray;box-sizing: border-box;top: 0;bottom: 0;left: 50%;z-index: -1;}#sk-container-id-3 div.sk-parallel-item {display: flex;flex-direction: column;z-index: 1;position: relative;background-color: white;}#sk-container-id-3 div.sk-parallel-item:first-child::after {align-self: flex-end;width: 50%;}#sk-container-id-3 div.sk-parallel-item:last-child::after {align-self: flex-start;width: 50%;}#sk-container-id-3 div.sk-parallel-item:only-child::after {width: 0;}#sk-container-id-3 div.sk-dashed-wrapped {border: 1px dashed gray;margin: 0 0.4em 0.5em 0.4em;box-sizing: border-box;padding-bottom: 0.4em;background-color: white;}#sk-container-id-3 div.sk-label label {font-family: monospace;font-weight: bold;display: inline-block;line-height: 1.2em;}#sk-container-id-3 div.sk-label-container {text-align: center;}#sk-container-id-3 div.sk-container {/* jupyter's `normalize.less` sets `[hidden] { display: none; }` but bootstrap.min.css set `[hidden] { display: none !important; }` so we also need the `!important` here to be able to override the default hidden behavior on the sphinx rendered scikit-learn.org. See: https://github.com/scikit-learn/scikit-learn/issues/21755 */display: inline-block !important;position: relative;}#sk-container-id-3 div.sk-text-repr-fallback {display: none;}</style><div id=\"sk-container-id-3\" class=\"sk-top-container\"><div class=\"sk-text-repr-fallback\"><pre>KNeighborsClassifier(n_neighbors=7)</pre><b>In a Jupyter environment, please rerun this cell to show the HTML representation or trust the notebook. <br />On GitHub, the HTML representation is unable to render, please try loading this page with nbviewer.org.</b></div><div class=\"sk-container\" hidden><div class=\"sk-item\"><div class=\"sk-estimator sk-toggleable\"><input class=\"sk-toggleable__control sk-hidden--visually\" id=\"sk-estimator-id-3\" type=\"checkbox\" checked><label for=\"sk-estimator-id-3\" class=\"sk-toggleable__label sk-toggleable__label-arrow\">KNeighborsClassifier</label><div class=\"sk-toggleable__content\"><pre>KNeighborsClassifier(n_neighbors=7)</pre></div></div></div></div></div>"
      ],
      "text/plain": [
       "KNeighborsClassifier(n_neighbors=7)"
      ]
     },
     "execution_count": 174,
     "metadata": {},
     "output_type": "execute_result"
    }
   ],
   "source": [
    "knn_model = KNeighborsClassifier(n_neighbors=7)\n",
    "knn_model.fit(X_train, y_train)"
   ]
  },
  {
   "cell_type": "code",
   "execution_count": 175,
   "id": "bcd9ae6f",
   "metadata": {},
   "outputs": [
    {
     "ename": "ValueError",
     "evalue": "X has 10 features, but KNeighborsClassifier is expecting 12 features as input.",
     "output_type": "error",
     "traceback": [
      "\u001b[0;31m---------------------------------------------------------------------------\u001b[0m",
      "\u001b[0;31mValueError\u001b[0m                                Traceback (most recent call last)",
      "\u001b[1;32m/home/julio/Dokumente/ML/easyTasks.ipynb Zelle 18\u001b[0m line \u001b[0;36m1\n\u001b[0;32m----> <a href='vscode-notebook-cell:/home/julio/Dokumente/ML/easyTasks.ipynb#X13sZmlsZQ%3D%3D?line=0'>1</a>\u001b[0m knn_model\u001b[39m.\u001b[39;49mpredict([[\u001b[39m50\u001b[39;49m,\u001b[39m6\u001b[39;49m,\u001b[39m4\u001b[39;49m,\u001b[39m1\u001b[39;49m,\u001b[39m1\u001b[39;49m,\u001b[39m1\u001b[39;49m,\u001b[39m0\u001b[39;49m,\u001b[39m1\u001b[39;49m,\u001b[39m1\u001b[39;49m,\u001b[39m1\u001b[39;49m]])\n",
      "File \u001b[0;32m/usr/lib/python3.11/site-packages/sklearn/neighbors/_classification.py:266\u001b[0m, in \u001b[0;36mKNeighborsClassifier.predict\u001b[0;34m(self, X)\u001b[0m\n\u001b[1;32m    263\u001b[0m         \u001b[39mreturn\u001b[39;00m \u001b[39mself\u001b[39m\u001b[39m.\u001b[39mclasses_[np\u001b[39m.\u001b[39margmax(probabilities, axis\u001b[39m=\u001b[39m\u001b[39m1\u001b[39m)]\n\u001b[1;32m    264\u001b[0m     \u001b[39m# In that case, we do not need the distances to perform\u001b[39;00m\n\u001b[1;32m    265\u001b[0m     \u001b[39m# the weighting so we do not compute them.\u001b[39;00m\n\u001b[0;32m--> 266\u001b[0m     neigh_ind \u001b[39m=\u001b[39m \u001b[39mself\u001b[39;49m\u001b[39m.\u001b[39;49mkneighbors(X, return_distance\u001b[39m=\u001b[39;49m\u001b[39mFalse\u001b[39;49;00m)\n\u001b[1;32m    267\u001b[0m     neigh_dist \u001b[39m=\u001b[39m \u001b[39mNone\u001b[39;00m\n\u001b[1;32m    268\u001b[0m \u001b[39melse\u001b[39;00m:\n",
      "File \u001b[0;32m/usr/lib/python3.11/site-packages/sklearn/neighbors/_base.py:804\u001b[0m, in \u001b[0;36mKNeighborsMixin.kneighbors\u001b[0;34m(self, X, n_neighbors, return_distance)\u001b[0m\n\u001b[1;32m    802\u001b[0m         X \u001b[39m=\u001b[39m _check_precomputed(X)\n\u001b[1;32m    803\u001b[0m     \u001b[39melse\u001b[39;00m:\n\u001b[0;32m--> 804\u001b[0m         X \u001b[39m=\u001b[39m \u001b[39mself\u001b[39;49m\u001b[39m.\u001b[39;49m_validate_data(X, accept_sparse\u001b[39m=\u001b[39;49m\u001b[39m\"\u001b[39;49m\u001b[39mcsr\u001b[39;49m\u001b[39m\"\u001b[39;49m, reset\u001b[39m=\u001b[39;49m\u001b[39mFalse\u001b[39;49;00m, order\u001b[39m=\u001b[39;49m\u001b[39m\"\u001b[39;49m\u001b[39mC\u001b[39;49m\u001b[39m\"\u001b[39;49m)\n\u001b[1;32m    806\u001b[0m n_samples_fit \u001b[39m=\u001b[39m \u001b[39mself\u001b[39m\u001b[39m.\u001b[39mn_samples_fit_\n\u001b[1;32m    807\u001b[0m \u001b[39mif\u001b[39;00m n_neighbors \u001b[39m>\u001b[39m n_samples_fit:\n",
      "File \u001b[0;32m/usr/lib/python3.11/site-packages/sklearn/base.py:626\u001b[0m, in \u001b[0;36mBaseEstimator._validate_data\u001b[0;34m(self, X, y, reset, validate_separately, cast_to_ndarray, **check_params)\u001b[0m\n\u001b[1;32m    623\u001b[0m     out \u001b[39m=\u001b[39m X, y\n\u001b[1;32m    625\u001b[0m \u001b[39mif\u001b[39;00m \u001b[39mnot\u001b[39;00m no_val_X \u001b[39mand\u001b[39;00m check_params\u001b[39m.\u001b[39mget(\u001b[39m\"\u001b[39m\u001b[39mensure_2d\u001b[39m\u001b[39m\"\u001b[39m, \u001b[39mTrue\u001b[39;00m):\n\u001b[0;32m--> 626\u001b[0m     \u001b[39mself\u001b[39;49m\u001b[39m.\u001b[39;49m_check_n_features(X, reset\u001b[39m=\u001b[39;49mreset)\n\u001b[1;32m    628\u001b[0m \u001b[39mreturn\u001b[39;00m out\n",
      "File \u001b[0;32m/usr/lib/python3.11/site-packages/sklearn/base.py:415\u001b[0m, in \u001b[0;36mBaseEstimator._check_n_features\u001b[0;34m(self, X, reset)\u001b[0m\n\u001b[1;32m    412\u001b[0m     \u001b[39mreturn\u001b[39;00m\n\u001b[1;32m    414\u001b[0m \u001b[39mif\u001b[39;00m n_features \u001b[39m!=\u001b[39m \u001b[39mself\u001b[39m\u001b[39m.\u001b[39mn_features_in_:\n\u001b[0;32m--> 415\u001b[0m     \u001b[39mraise\u001b[39;00m \u001b[39mValueError\u001b[39;00m(\n\u001b[1;32m    416\u001b[0m         \u001b[39mf\u001b[39m\u001b[39m\"\u001b[39m\u001b[39mX has \u001b[39m\u001b[39m{\u001b[39;00mn_features\u001b[39m}\u001b[39;00m\u001b[39m features, but \u001b[39m\u001b[39m{\u001b[39;00m\u001b[39mself\u001b[39m\u001b[39m.\u001b[39m\u001b[39m__class__\u001b[39m\u001b[39m.\u001b[39m\u001b[39m__name__\u001b[39m\u001b[39m}\u001b[39;00m\u001b[39m \u001b[39m\u001b[39m\"\u001b[39m\n\u001b[1;32m    417\u001b[0m         \u001b[39mf\u001b[39m\u001b[39m\"\u001b[39m\u001b[39mis expecting \u001b[39m\u001b[39m{\u001b[39;00m\u001b[39mself\u001b[39m\u001b[39m.\u001b[39mn_features_in_\u001b[39m}\u001b[39;00m\u001b[39m features as input.\u001b[39m\u001b[39m\"\u001b[39m\n\u001b[1;32m    418\u001b[0m     )\n",
      "\u001b[0;31mValueError\u001b[0m: X has 10 features, but KNeighborsClassifier is expecting 12 features as input."
     ]
    }
   ],
   "source": [
    "knn_model.predict([[50,6,4,1,1,1,0,1,1,1]])"
   ]
  },
  {
   "cell_type": "code",
   "execution_count": null,
   "id": "cf03554e",
   "metadata": {},
   "outputs": [],
   "source": []
  }
 ],
 "metadata": {
  "kernelspec": {
   "display_name": "Python 3 (ipykernel)",
   "language": "python",
   "name": "python3"
  },
  "language_info": {
   "codemirror_mode": {
    "name": "ipython",
    "version": 3
   },
   "file_extension": ".py",
   "mimetype": "text/x-python",
   "name": "python",
   "nbconvert_exporter": "python",
   "pygments_lexer": "ipython3",
   "version": "3.11.5"
  }
 },
 "nbformat": 4,
 "nbformat_minor": 5
}
